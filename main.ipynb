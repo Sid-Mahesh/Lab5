{
 "cells": [
  {
   "cell_type": "code",
   "execution_count": 3,
   "metadata": {},
   "outputs": [
    {
     "name": "stdin",
     "output_type": "stream",
     "text": [
      "Enter your name:  Ivan\n",
      "Enter your birthday (mm/dd):  11/05\n"
     ]
    },
    {
     "name": "stdout",
     "output_type": "stream",
     "text": [
      "Hi Ivan, your birthday is in 25 days!\n"
     ]
    }
   ],
   "source": [
    "from datetime import *\n",
    "\n",
    "# Gather information from user\n",
    "name = input(\"Enter your name: \")\n",
    "birthday = input(\"Enter your birthday (mm/dd): \")\n",
    "\n",
    "## TODO error check input is in correct format\n",
    "\n",
    "birthday = birthday.split(\"/\")\n",
    "birth_month = int(birthday[0])\n",
    "birth_day = int(birthday[1])\n",
    "\n",
    "## TODO if birthday already occured in this year,\n",
    "## set current_year to next year\n",
    "\n",
    "current_year = date.today().year\n",
    "birthday = date(current_year, birth_month, birth_day)\n",
    "\n",
    "# Calculating days to birthday and setting timedelta Object\n",
    "# to only display days\n",
    "days_to_birthday = birthday - date.today()\n",
    "days_to_birthday = days_to_birthday.days\n",
    "\n",
    "# Print result\n",
    "print(f\"Hi {name}, your birthday is in {days_to_birthday} days!\")"
   ]
  },
  {
   "cell_type": "code",
   "execution_count": null,
   "metadata": {},
   "outputs": [],
   "source": []
  }
 ],
 "metadata": {
  "kernelspec": {
   "display_name": "Python 3",
   "language": "python",
   "name": "python3"
  },
  "language_info": {
   "codemirror_mode": {
    "name": "ipython",
    "version": 3
   },
   "file_extension": ".py",
   "mimetype": "text/x-python",
   "name": "python",
   "nbconvert_exporter": "python",
   "pygments_lexer": "ipython3",
   "version": "3.8.3"
  }
 },
 "nbformat": 4,
 "nbformat_minor": 4
}
