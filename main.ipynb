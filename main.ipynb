{
 "cells": [
  {
   "cell_type": "code",
   "execution_count": null,
   "metadata": {},
   "outputs": [],
   "source": [
    "from datetime import *\n",
    "\n",
    "# Gather information from user\n",
    "name = input(\"Enter your name: \")\n",
    "birthday = input(\"Enter your birthday (mm/dd): \")\n",
    "\n",
    "## TODO error check input is in correct format\n",
    "\n",
    "birthday = birthday.split(\"/\")\n",
    "birth_month = int(birthday[0])\n",
    "birth_day = int(birthday[1])\n",
    "\n",
    "# Set current year for birthday\n",
    "current_year = date.today().year\n",
    "birthday = date(current_year, birth_month, birth_day)\n",
    "\n",
    "# Calculate how many days until birthday\n",
    "days_to_birthday = birthday - date.today()\n",
    "\n",
    "# If birthday already occured this year,\n",
    "# set birthday year to next year\n",
    "if (days_to_birthday.days < 0):\n",
    "    birthday = date(current_year+1, birth_month, birth_day)\n",
    "    days_to_birthday = birthday - date.today()\n",
    "    print(f\"Hi {name}, your birthday is in {days_to_birthday.days} days!\")\n",
    "\n",
    "# If birthday is today\n",
    "elif (days_to_birthday.days == 0):\n",
    "    print(f\"Happy Birthday {name}!\")\n",
    "\n",
    "# Print result\n",
    "else:\n",
    "    print(f\"Hi {name}, your birthday is in {days_to_birthday.days} days!\")"
   ]
  },
  {
   "cell_type": "code",
   "execution_count": null,
   "metadata": {},
   "outputs": [],
   "source": []
  }
 ],
 "metadata": {
  "kernelspec": {
   "display_name": "Python 3",
   "language": "python",
   "name": "python3"
  },
  "language_info": {
   "codemirror_mode": {
    "name": "ipython",
    "version": 3
   },
   "file_extension": ".py",
   "mimetype": "text/x-python",
   "name": "python",
   "nbconvert_exporter": "python",
   "pygments_lexer": "ipython3",
   "version": "3.8.3"
  }
 },
 "nbformat": 4,
 "nbformat_minor": 4
}
